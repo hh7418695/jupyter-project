{
 "cells": [
  {
   "cell_type": "code",
   "execution_count": 1,
   "id": "52f409de-1761-4271-abf5-1a2a5cbb427c",
   "metadata": {},
   "outputs": [
    {
     "name": "stdout",
     "output_type": "stream",
     "text": [
      "hello world\n"
     ]
    }
   ],
   "source": [
    "print (\"hello world\")"
   ]
  },
  {
   "cell_type": "code",
   "execution_count": 2,
   "id": "ac15f066-1e52-47ea-a3b2-602490c6e9d7",
   "metadata": {},
   "outputs": [
    {
     "name": "stdout",
     "output_type": "stream",
     "text": [
      "hello world\n"
     ]
    }
   ],
   "source": [
    "'''\n",
    "print (\"hello world\")\n",
    "print (\"hello world\")\n",
    "\n",
    "'''\n",
    "\n",
    "\n",
    "print (\"hello world\")"
   ]
  },
  {
   "cell_type": "code",
   "execution_count": 3,
   "id": "e267b6d0-41a0-4273-ad53-c6bd5c62d33a",
   "metadata": {},
   "outputs": [
    {
     "name": "stdout",
     "output_type": "stream",
     "text": [
      "Hao Huang的年薪是106656\n"
     ]
    }
   ],
   "source": [
    "# 计算工资\n",
    "\n",
    "name = \"Hao Huang\"\n",
    "age = 25\n",
    "monthMoney = 8888\n",
    "month = 12\n",
    "\n",
    "yearMoney = monthMoney * month\n",
    "\n",
    "print(name + \"的年薪是\" + str(yearMoney)) #需要转换字符串str\n"
   ]
  },
  {
   "cell_type": "code",
   "execution_count": 12,
   "id": "90ed5a5d-6360-4b19-b47e-db1fc74bec5a",
   "metadata": {},
   "outputs": [
    {
     "name": "stdout",
     "output_type": "stream",
     "text": [
      "我的名字叫做Hao Huang,我的年龄是25\n"
     ]
    },
    {
     "data": {
      "text/plain": [
       "' %前不要加逗号，会报错。'"
      ]
     },
     "execution_count": 12,
     "metadata": {},
     "output_type": "execute_result"
    }
   ],
   "source": [
    "# 介绍自己\n",
    "\n",
    "print(\"我的名字叫做%s,我的年龄是%d\" %(name,age)) \n",
    "\n",
    "\n",
    "''' %前不要加逗号，会报错。'''"
   ]
  },
  {
   "cell_type": "code",
   "execution_count": 11,
   "id": "aa431c84-77ad-41c3-8647-a20a8c88fdb0",
   "metadata": {},
   "outputs": [
    {
     "name": "stdout",
     "output_type": "stream",
     "text": [
      "书的价格是多少？ 12.3\n",
      "买多少本？ 2\n"
     ]
    },
    {
     "name": "stdout",
     "output_type": "stream",
     "text": [
      "需要支付的钱为24.60\n"
     ]
    },
    {
     "data": {
      "text/plain": [
       "'\\n需要转换为float才行，否则会报错。\\nbookPrice = input(\"书的价格是多少？\")\\nbookNum = input(\"买多少本？\")\\nbookPay = bookPrice * bookNum\\nprint(\"需要支付的钱为%d\" %bookPay)\\n'"
      ]
     },
     "execution_count": 11,
     "metadata": {},
     "output_type": "execute_result"
    }
   ],
   "source": [
    "# 书的价格\n",
    "\n",
    "bookPrice = float(input(\"书的价格是多少？\"))\n",
    "bookNum = float(input(\"买多少本？\"))\n",
    "bookPay = bookPrice * bookNum\n",
    "print(\"需要支付的钱为%.2f\" %bookPay)\n",
    "\n",
    "'''\n",
    "\n",
    "需要转换为float才行，否则会报错。以下是报错版本\n",
    "\n",
    "bookPrice = input(\"书的价格是多少？\")\n",
    "bookNum = input(\"买多少本？\")\n",
    "bookPay = bookPrice * bookNum\n",
    "print(\"需要支付的钱为%d\" %bookPay)\n",
    "\n",
    "'''"
   ]
  },
  {
   "cell_type": "code",
   "execution_count": null,
   "id": "6b7fa43b-0f1a-411c-9ded-2b49c51cfde2",
   "metadata": {},
   "outputs": [],
   "source": []
  }
 ],
 "metadata": {
  "kernelspec": {
   "display_name": "Python [conda env:base] *",
   "language": "python",
   "name": "conda-base-py"
  },
  "language_info": {
   "codemirror_mode": {
    "name": "ipython",
    "version": 3
   },
   "file_extension": ".py",
   "mimetype": "text/x-python",
   "name": "python",
   "nbconvert_exporter": "python",
   "pygments_lexer": "ipython3",
   "version": "3.13.5"
  }
 },
 "nbformat": 4,
 "nbformat_minor": 5
}
