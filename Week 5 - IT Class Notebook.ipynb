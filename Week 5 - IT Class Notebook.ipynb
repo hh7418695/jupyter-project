{
 "cells": [
  {
   "cell_type": "markdown",
   "id": "4eb1e5ad",
   "metadata": {},
   "source": [
    "# Mamdani Fuzzy Inference Systems\n",
    "In this tutorial, we are using fuzzy_expert package. For more information about this package and its usage, please see https://jdvelasq.github.io/fuzzy-expert/index.html"
   ]
  },
  {
   "cell_type": "code",
   "execution_count": 1,
   "id": "a195fc74",
   "metadata": {},
   "outputs": [
    {
     "name": "stdout",
     "output_type": "stream",
     "text": [
      "Requirement already satisfied: fuzzy_expert in c:\\users\\andem\\miniconda3\\lib\\site-packages (0.1.0)\n",
      "Requirement already satisfied: progressbar2 in c:\\users\\andem\\miniconda3\\lib\\site-packages (from fuzzy_expert) (4.2.0)\n",
      "Requirement already satisfied: matplotlib in c:\\users\\andem\\miniconda3\\lib\\site-packages (from fuzzy_expert) (3.3.3)\n",
      "Requirement already satisfied: numpy in c:\\users\\andem\\miniconda3\\lib\\site-packages (from fuzzy_expert) (1.23.5)\n",
      "Requirement already satisfied: pandas in c:\\users\\andem\\miniconda3\\lib\\site-packages (from fuzzy_expert) (1.1.4)\n",
      "Requirement already satisfied: ipywidgets in c:\\users\\andem\\miniconda3\\lib\\site-packages (from fuzzy_expert) (8.0.3)\n",
      "Requirement already satisfied: python-utils>=3.0.0 in c:\\users\\andem\\miniconda3\\lib\\site-packages (from progressbar2->fuzzy_expert) (3.4.5)\n",
      "Requirement already satisfied: python-dateutil>=2.1 in c:\\users\\andem\\miniconda3\\lib\\site-packages (from matplotlib->fuzzy_expert) (2.8.2)\n",
      "Requirement already satisfied: cycler>=0.10 in c:\\users\\andem\\miniconda3\\lib\\site-packages (from matplotlib->fuzzy_expert) (0.10.0)\n",
      "Requirement already satisfied: kiwisolver>=1.0.1 in c:\\users\\andem\\miniconda3\\lib\\site-packages (from matplotlib->fuzzy_expert) (1.3.1)\n",
      "Requirement already satisfied: pyparsing!=2.0.4,!=2.1.2,!=2.1.6,>=2.0.3 in c:\\users\\andem\\miniconda3\\lib\\site-packages (from matplotlib->fuzzy_expert) (2.4.7)\n",
      "Requirement already satisfied: pillow>=6.2.0 in c:\\users\\andem\\miniconda3\\lib\\site-packages (from matplotlib->fuzzy_expert) (9.2.0)\n",
      "Requirement already satisfied: pytz>=2017.2 in c:\\users\\andem\\miniconda3\\lib\\site-packages (from pandas->fuzzy_expert) (2020.4)\n",
      "Requirement already satisfied: ipykernel>=4.5.1 in c:\\users\\andem\\miniconda3\\lib\\site-packages (from ipywidgets->fuzzy_expert) (6.15.1)\n",
      "Requirement already satisfied: jupyterlab-widgets~=3.0 in c:\\users\\andem\\miniconda3\\lib\\site-packages (from ipywidgets->fuzzy_expert) (3.0.4)\n",
      "Requirement already satisfied: ipython>=6.1.0 in c:\\users\\andem\\miniconda3\\lib\\site-packages (from ipywidgets->fuzzy_expert) (8.4.0)\n",
      "Requirement already satisfied: traitlets>=4.3.1 in c:\\users\\andem\\miniconda3\\lib\\site-packages (from ipywidgets->fuzzy_expert) (5.3.0)\n",
      "Requirement already satisfied: widgetsnbextension~=4.0 in c:\\users\\andem\\miniconda3\\lib\\site-packages (from ipywidgets->fuzzy_expert) (4.0.4)\n",
      "Requirement already satisfied: six>=1.5 in c:\\users\\andem\\miniconda3\\lib\\site-packages (from python-dateutil>=2.1->matplotlib->fuzzy_expert) (1.15.0)\n",
      "Requirement already satisfied: nest-asyncio in c:\\users\\andem\\miniconda3\\lib\\site-packages (from ipykernel>=4.5.1->ipywidgets->fuzzy_expert) (1.5.5)\n",
      "Requirement already satisfied: jupyter-client>=6.1.12 in c:\\users\\andem\\miniconda3\\lib\\site-packages (from ipykernel>=4.5.1->ipywidgets->fuzzy_expert) (7.3.4)\n",
      "Requirement already satisfied: psutil in c:\\users\\andem\\miniconda3\\lib\\site-packages (from ipykernel>=4.5.1->ipywidgets->fuzzy_expert) (5.9.1)\n",
      "Requirement already satisfied: matplotlib-inline>=0.1 in c:\\users\\andem\\miniconda3\\lib\\site-packages (from ipykernel>=4.5.1->ipywidgets->fuzzy_expert) (0.1.6)\n",
      "Requirement already satisfied: debugpy>=1.0 in c:\\users\\andem\\miniconda3\\lib\\site-packages (from ipykernel>=4.5.1->ipywidgets->fuzzy_expert) (1.6.3)\n",
      "Requirement already satisfied: packaging in c:\\users\\andem\\miniconda3\\lib\\site-packages (from ipykernel>=4.5.1->ipywidgets->fuzzy_expert) (21.3)\n",
      "Requirement already satisfied: pyzmq>=17 in c:\\users\\andem\\miniconda3\\lib\\site-packages (from ipykernel>=4.5.1->ipywidgets->fuzzy_expert) (23.2.1)\n",
      "Requirement already satisfied: tornado>=6.1 in c:\\users\\andem\\miniconda3\\lib\\site-packages (from ipykernel>=4.5.1->ipywidgets->fuzzy_expert) (6.2)\n",
      "Requirement already satisfied: jedi>=0.16 in c:\\users\\andem\\miniconda3\\lib\\site-packages (from ipython>=6.1.0->ipywidgets->fuzzy_expert) (0.18.1)\n",
      "Requirement already satisfied: backcall in c:\\users\\andem\\miniconda3\\lib\\site-packages (from ipython>=6.1.0->ipywidgets->fuzzy_expert) (0.2.0)\n",
      "Requirement already satisfied: setuptools>=18.5 in c:\\users\\andem\\miniconda3\\lib\\site-packages (from ipython>=6.1.0->ipywidgets->fuzzy_expert) (50.3.1.post20201107)\n",
      "Requirement already satisfied: stack-data in c:\\users\\andem\\miniconda3\\lib\\site-packages (from ipython>=6.1.0->ipywidgets->fuzzy_expert) (0.4.0)\n",
      "Requirement already satisfied: decorator in c:\\users\\andem\\miniconda3\\lib\\site-packages (from ipython>=6.1.0->ipywidgets->fuzzy_expert) (5.1.1)\n",
      "Requirement already satisfied: colorama; sys_platform == \"win32\" in c:\\users\\andem\\miniconda3\\lib\\site-packages (from ipython>=6.1.0->ipywidgets->fuzzy_expert) (0.4.5)\n",
      "Requirement already satisfied: pygments>=2.4.0 in c:\\users\\andem\\miniconda3\\lib\\site-packages (from ipython>=6.1.0->ipywidgets->fuzzy_expert) (2.13.0)\n",
      "Requirement already satisfied: pickleshare in c:\\users\\andem\\miniconda3\\lib\\site-packages (from ipython>=6.1.0->ipywidgets->fuzzy_expert) (0.7.5)\n",
      "Requirement already satisfied: prompt-toolkit!=3.0.0,!=3.0.1,<3.1.0,>=2.0.0 in c:\\users\\andem\\miniconda3\\lib\\site-packages (from ipython>=6.1.0->ipywidgets->fuzzy_expert) (3.0.30)\n",
      "Requirement already satisfied: entrypoints in c:\\users\\andem\\miniconda3\\lib\\site-packages (from jupyter-client>=6.1.12->ipykernel>=4.5.1->ipywidgets->fuzzy_expert) (0.4)\n",
      "Requirement already satisfied: jupyter-core>=4.9.2 in c:\\users\\andem\\miniconda3\\lib\\site-packages (from jupyter-client>=6.1.12->ipykernel>=4.5.1->ipywidgets->fuzzy_expert) (4.11.1)\n",
      "Requirement already satisfied: parso<0.9.0,>=0.8.0 in c:\\users\\andem\\miniconda3\\lib\\site-packages (from jedi>=0.16->ipython>=6.1.0->ipywidgets->fuzzy_expert) (0.8.3)\n",
      "Requirement already satisfied: asttokens in c:\\users\\andem\\miniconda3\\lib\\site-packages (from stack-data->ipython>=6.1.0->ipywidgets->fuzzy_expert) (2.0.8)\n",
      "Requirement already satisfied: pure-eval in c:\\users\\andem\\miniconda3\\lib\\site-packages (from stack-data->ipython>=6.1.0->ipywidgets->fuzzy_expert) (0.2.2)\n",
      "Requirement already satisfied: executing in c:\\users\\andem\\miniconda3\\lib\\site-packages (from stack-data->ipython>=6.1.0->ipywidgets->fuzzy_expert) (0.10.0)\n",
      "Requirement already satisfied: wcwidth in c:\\users\\andem\\miniconda3\\lib\\site-packages (from prompt-toolkit!=3.0.0,!=3.0.1,<3.1.0,>=2.0.0->ipython>=6.1.0->ipywidgets->fuzzy_expert) (0.2.5)\n",
      "Requirement already satisfied: pywin32>=1.0; sys_platform == \"win32\" and platform_python_implementation != \"PyPy\" in c:\\users\\andem\\miniconda3\\lib\\site-packages (from jupyter-core>=4.9.2->jupyter-client>=6.1.12->ipykernel>=4.5.1->ipywidgets->fuzzy_expert) (227)\n"
     ]
    }
   ],
   "source": [
    "!pip install fuzzy_expert"
   ]
  },
  {
   "cell_type": "markdown",
   "id": "65c4f10c",
   "metadata": {},
   "source": [
    "In this tutorial a fuzzy inference system for loan approbation is builded. The problem has three input variables: score, ratio, and credit; and one output variable: decision.\n",
    "\n",
    "In the following code, a dictionary containing the variables of the problem is defined. The keys of the dictionary are the names of the variables in the rules. For each variable is defined the limits of the universe of discourse, the terms, and the membership function for each term. Finally, the variable score is ploted."
   ]
  },
  {
   "cell_type": "code",
   "execution_count": 2,
   "id": "4b134284",
   "metadata": {},
   "outputs": [
    {
     "data": {
      "image/png": "[encoded data removed]",
      "text/plain": [
       "<Figure size 1000x250 with 1 Axes>"
      ]
     },
     "metadata": {},
     "output_type": "display_data"
    }
   ],
   "source": [
    "import matplotlib.pyplot as plt\n",
    "import numpy as np\n",
    "\n",
    "from fuzzy_expert.variable import FuzzyVariable\n",
    "\n",
    "variables = {\n",
    "    \"score\": FuzzyVariable(\n",
    "        universe_range=(150, 200),\n",
    "        terms={\n",
    "            \"High\": [(175, 0), (180, 0.2), (185, 0.7), (190, 1)],\n",
    "            \"Low\": [(155, 1), (160, 0.8), (165, 0.5), (170, 0.2), (175, 0)],\n",
    "        },\n",
    "    ),\n",
    "    \"ratio\": FuzzyVariable(\n",
    "        universe_range=(0.1, 1),\n",
    "        terms={\n",
    "            \"Goodr\": [(0.3, 1), (0.4, 0.7), (0.41, 0.3), (0.42, 0)],\n",
    "            \"Badr\": [(0.44, 0), (0.45, 0.3), (0.5, 0.7), (0.7, 1)],\n",
    "        },\n",
    "    ),\n",
    "    #\n",
    "    \"credit\": FuzzyVariable(\n",
    "        universe_range=(0, 10),\n",
    "        terms={\n",
    "            \"Goodc\": [(2, 1), (3, 0.7), (4, 0.3), (5, 0)],\n",
    "            \"Badc\": [(5, 0), (6, 0.3), (7, 0.7), (8, 1)],\n",
    "        },\n",
    "    ),\n",
    "    #\n",
    "    \"decision\": FuzzyVariable(\n",
    "        universe_range=(0, 10),\n",
    "        terms={\n",
    "            \"Approve\": [(5, 0), (6, 0.3), (7, 0.7), (8, 1)],\n",
    "            \"Reject\": [(2, 1), (3, 0.7), (4, 0.3), (5, 0)],\n",
    "        },\n",
    "    ),\n",
    "    #\n",
    "    \"other_decision\": FuzzyVariable(\n",
    "        universe_range=(0, 10),\n",
    "        terms={\n",
    "            \"Approve\": [(5, 0), (6, 0.3), (7, 0.7), (8, 1)],\n",
    "            \"Reject\": [(2, 1), (3, 0.7), (4, 0.3), (5, 0)],\n",
    "        },\n",
    "    ),\n",
    "}\n",
    "\n",
    "plt.figure(figsize=(10, 2.5))\n",
    "variables[\"score\"].plot()"
   ]
  },
  {
   "cell_type": "markdown",
   "id": "7e99c9af",
   "metadata": {},
   "source": [
    "# Rule specification\n",
    "\n",
    "The fuzzy inference system has two rules. They are directly stored in a list."
   ]
  },
  {
   "cell_type": "code",
   "execution_count": 3,
   "id": "d35506a2",
   "metadata": {},
   "outputs": [
    {
     "name": "stdout",
     "output_type": "stream",
     "text": [
      "IF  score IS High\n",
      "    AND ratio IS Goodr\n",
      "    AND credit IS Goodc\n",
      "THEN\n",
      "    decision IS Approve\n",
      "CF = 1.00\n",
      "Threshold-CF = 0.00\n",
      "\n",
      "\n",
      "IF  score IS Low\n",
      "    AND ratio IS Badr\n",
      "    OR credit IS Badc\n",
      "THEN\n",
      "    decision IS Reject\n",
      "CF = 1.00\n",
      "Threshold-CF = 0.00\n",
      "\n"
     ]
    }
   ],
   "source": [
    "from fuzzy_expert.rule import FuzzyRule\n",
    "\n",
    "rule_1 = FuzzyRule(\n",
    "    premise=[\n",
    "        (\"score\", \"High\"),\n",
    "        (\"AND\", \"ratio\", \"Goodr\"),\n",
    "        (\"AND\", \"credit\", \"Goodc\"),\n",
    "    ],\n",
    "    consequence=[(\"decision\", \"Approve\")],\n",
    ")\n",
    "\n",
    "rule_2 = FuzzyRule(\n",
    "    premise=[\n",
    "        (\"score\", \"Low\"),\n",
    "        (\"AND\", \"ratio\", \"Badr\"),\n",
    "        (\"OR\", \"credit\", \"Badc\"),\n",
    "    ],\n",
    "    consequence=[(\"decision\", \"Reject\")],\n",
    ")\n",
    "\n",
    "print(rule_1)\n",
    "print()\n",
    "print(rule_2)"
   ]
  },
  {
   "cell_type": "markdown",
   "id": "9f5a69b5",
   "metadata": {},
   "source": [
    "# Inference system specification and computations\n",
    "\n",
    "Finally, the fuzzy inference system is specified. The model is used to evaluate the following crisp values for the input variables: score=190, ratio=0.39, and credit=1.5. The model returns a dictionary with the values of the variables in the consequence of the rules and the certainty factor of the conclusion."
   ]
  },
  {
   "cell_type": "code",
   "execution_count": 4,
   "id": "fc3f22d0",
   "metadata": {},
   "outputs": [
    {
     "data": {
      "text/plain": [
       "({'decision': 8.010492631084489}, 1.0)"
      ]
     },
     "execution_count": 4,
     "metadata": {},
     "output_type": "execute_result"
    }
   ],
   "source": [
    "from fuzzy_expert.inference import DecompositionalInference\n",
    "\n",
    "model = DecompositionalInference(\n",
    "    and_operator=\"min\",\n",
    "    or_operator=\"max\",\n",
    "    implication_operator=\"Rc\",\n",
    "    composition_operator=\"max-min\",\n",
    "    production_link=\"max\",\n",
    "    defuzzification_operator=\"cog\",\n",
    ")\n",
    "\n",
    "model(\n",
    "    variables=variables,\n",
    "    rules=[rule_1, rule_2],\n",
    "    score=190,\n",
    "    ratio=0.39,\n",
    "    credit=1.5,\n",
    ")"
   ]
  },
  {
   "cell_type": "markdown",
   "id": "4345b0fe",
   "metadata": {},
   "source": [
    "# Visualization of the results\n",
    "\n",
    "The function plot can be used to obtain a graphical represntation of the results of the inference systems. It uses the same parameters used to the evaluation of the system."
   ]
  },
  {
   "cell_type": "code",
   "execution_count": 5,
   "id": "fbbecc71",
   "metadata": {},
   "outputs": [
    {
     "data": {
      "application/vnd.jupyter.widget-view+json": {
       "model_id": "a98948e3565945fc8a06e4d472e917eb",
       "version_major": 2,
       "version_minor": 0
      },
      "text/plain": [
       "interactive(children=(FloatSlider(value=150.0, description='score', max=200.0, min=150.0), FloatSlider(value=0…"
      ]
     },
     "metadata": {},
     "output_type": "display_data"
    },
    {
     "data": {
      "text/plain": [
       "<function __main__.demo(score, ratio, credit)>"
      ]
     },
     "execution_count": 5,
     "metadata": {},
     "output_type": "execute_result"
    }
   ],
   "source": [
    "from ipywidgets import interact, widgets\n",
    "\n",
    "def demo(score, ratio, credit):\n",
    "    plt.figure(figsize=(20,6))    \n",
    "    model.plot(\n",
    "        variables=variables,\n",
    "        rules = [rule_1, rule_2],\n",
    "        score=score,\n",
    "        ratio=ratio,\n",
    "        credit=credit,\n",
    "    )\n",
    "\n",
    "interact(\n",
    "    demo, \n",
    "    score=widgets.FloatSlider(min=150, max=200),\n",
    "    ratio=widgets.FloatSlider(min=0.1, max=1),\n",
    "    credit=widgets.FloatSlider(min=0, max=10),\n",
    ")"
   ]
  },
  {
   "cell_type": "markdown",
   "id": "7943133c",
   "metadata": {},
   "source": [
    "# Specification of the fuzzy variables with standard membership functions\n",
    "\n",
    "In the following code, fuzzy sets are specified using standard membership functions, which are described in the function reference section.\n",
    "\n",
    "Fuzzy sets in variables score and ratio are specified using the smf and zmf functions. Fuzzy sets for variables credit and decision are specified using the trapmf function. (s-shaped, z-shaped, trapezoidal membership)"
   ]
  },
  {
   "cell_type": "code",
   "execution_count": 6,
   "id": "7fb71a26",
   "metadata": {},
   "outputs": [],
   "source": [
    "import matplotlib.pyplot as plt\n",
    "import numpy as np\n",
    "\n",
    "from fuzzy_expert.variable import FuzzyVariable\n",
    "\n",
    "variables = {\n",
    "    \"score\": FuzzyVariable(\n",
    "        universe_range=(150, 200),\n",
    "        terms={\n",
    "            \"High\": ('smf', 175, 190),\n",
    "            \"Low\": ('zmf', 155, 175),\n",
    "        },\n",
    "    ),\n",
    "    \"ratio\": FuzzyVariable(\n",
    "        universe_range=(0.1, 1),\n",
    "        terms={\n",
    "            \"Goodr\": ('zmf', 0.3, 0.42),\n",
    "            \"Badr\": ('smf', 0.44, 0.7),\n",
    "        },\n",
    "    ),\n",
    "    #\n",
    "    \"credit\": FuzzyVariable(\n",
    "        universe_range=(0, 10),\n",
    "        terms={\n",
    "            \"Goodc\": ('trapmf', 0, 0, 2, 5),\n",
    "            \"Badc\":  ('trapmf', 5, 8, 10, 10),\n",
    "        },\n",
    "    ),\n",
    "    #\n",
    "    \"decision\": FuzzyVariable(\n",
    "        universe_range=(0, 10),\n",
    "        terms={\n",
    "            \"Approve\": ('trapmf', 5, 8, 10, 10),\n",
    "            \"Reject\": ('trapmf', 0, 0, 2, 5),\n",
    "        },\n",
    "    ),\n",
    "}"
   ]
  },
  {
   "cell_type": "code",
   "execution_count": 7,
   "id": "2586e416",
   "metadata": {},
   "outputs": [
    {
     "data": {
      "image/png": "[encoded data removed]",
      "text/plain": [
       "<Figure size 640x480 with 1 Axes>"
      ]
     },
     "metadata": {},
     "output_type": "display_data"
    }
   ],
   "source": [
    "variables['score'].plot()"
   ]
  },
  {
   "cell_type": "code",
   "execution_count": 8,
   "id": "4896a596",
   "metadata": {},
   "outputs": [
    {
     "data": {
      "image/png": "[encoded data removed]",
      "text/plain": [
       "<Figure size 640x480 with 1 Axes>"
      ]
     },
     "metadata": {},
     "output_type": "display_data"
    }
   ],
   "source": [
    "variables['ratio'].plot()"
   ]
  },
  {
   "cell_type": "code",
   "execution_count": 9,
   "id": "b8ef81b5",
   "metadata": {},
   "outputs": [
    {
     "data": {
      "image/png": "[encoded data removed]",
      "text/plain": [
       "<Figure size 640x480 with 1 Axes>"
      ]
     },
     "metadata": {},
     "output_type": "display_data"
    }
   ],
   "source": [
    "variables['decision'].plot()"
   ]
  },
  {
   "cell_type": "markdown",
   "id": "abee67fc",
   "metadata": {},
   "source": [
    "# Fuzzy rules with certainty factors\n",
    "\n",
    "It is possible to assign a certainty factor (cf) to each rule. If this value is not specified, it has assumed to be equal to 1.0. In addition, the threshold_cf is the minimum certainty factor required to consider the rule fired; this is, rules with a computed certainty factor below the threshold are not considering for computing the output of the system. The first rule has a certainty factor of 0.9, while the second rule has a certainty factor of 1.0 (by default)."
   ]
  },
  {
   "cell_type": "code",
   "execution_count": 10,
   "id": "cf17f35c",
   "metadata": {},
   "outputs": [],
   "source": [
    "rules = [\n",
    "    FuzzyRule(\n",
    "        cf=0.9,\n",
    "        premise=[\n",
    "            (\"score\", \"High\"),\n",
    "            (\"AND\", \"ratio\", \"Goodr\"),\n",
    "            (\"AND\", \"credit\", \"Goodc\"),\n",
    "        ],\n",
    "        consequence=[(\"decision\", \"Approve\")],\n",
    "    ),\n",
    "    FuzzyRule(\n",
    "        premise=[\n",
    "            (\"score\", \"Low\"),\n",
    "            (\"AND\", \"ratio\", \"Badr\"),\n",
    "            (\"OR\", \"credit\", \"Badc\"),\n",
    "        ],\n",
    "        consequence=[(\"decision\", \"Reject\")],\n",
    "    )\n",
    "]\n"
   ]
  },
  {
   "cell_type": "markdown",
   "id": "0e9f73a8",
   "metadata": {},
   "source": [
    "# Facts with certainty factors\n",
    "\n",
    "In addition, also it is possible to assign certainty factors to the facts. When a certainty factor not is specified by the user, it has a default value or 1.0. In the following code, the variables score, ratio, and credit have certainty factors of 0.9, 1.0, and 0.95 respectively. The conclusion is decision=7.59 with a certainty factor of 0.95.\n",
    "\n",
    "Please note that decision here is different than above. This is because of the change in the membership functions!"
   ]
  },
  {
   "cell_type": "code",
   "execution_count": 11,
   "id": "63e3b294",
   "metadata": {},
   "outputs": [
    {
     "data": {
      "text/plain": [
       "({'decision': 7.5936936936936865}, 0.95)"
      ]
     },
     "execution_count": 11,
     "metadata": {},
     "output_type": "execute_result"
    }
   ],
   "source": [
    "from fuzzy_expert.inference import DecompositionalInference\n",
    "\n",
    "model = DecompositionalInference(\n",
    "    and_operator=\"min\",\n",
    "    or_operator=\"max\",\n",
    "    implication_operator=\"Rc\",\n",
    "    composition_operator=\"max-min\",\n",
    "    production_link=\"max\",\n",
    "    defuzzification_operator=\"cog\",\n",
    ")\n",
    "\n",
    "model(\n",
    "    variables=variables,\n",
    "    rules=rules,\n",
    "    score=(190, 0.9),\n",
    "    ratio=(0.39, 1.0),\n",
    "    credit=(1.5, 0.95),\n",
    ")\n"
   ]
  },
  {
   "cell_type": "markdown",
   "id": "c010d5b3",
   "metadata": {},
   "source": [
    "# Fuzzy Inference System in MATLAB\n",
    "\n",
    "MATLAB's Fuzzy Logic Toolbox provides Mamdani and Sugeno fuzzy processing. Here are the advantages:\n",
    "\n",
    "Mamdani:\n",
    "\n",
    "   - Intuitive\n",
    "\n",
    "   - Well-suited to human input\n",
    "\n",
    "   - More interpretable rule base\n",
    "\n",
    "   - Have widespread acceptance\n",
    "\n",
    "Sugeno:\n",
    "\n",
    "   - Computationally efficient\n",
    "\n",
    "   - Work well with linear techniques, such as PID control\n",
    "\n",
    "   - Work well with optimization and adaptive techniques\n",
    "\n",
    "   - Guarantee output surface continuity\n",
    "\n",
    "   - Well-suited to mathematical analysis\n",
    "\n"
   ]
  },
  {
   "cell_type": "markdown",
   "id": "006b8c49",
   "metadata": {},
   "source": [
    "## Installing necessary MATLAB modules for Python"
   ]
  },
  {
   "cell_type": "code",
   "execution_count": null,
   "id": "8f2b24d3",
   "metadata": {
    "scrolled": true
   },
   "outputs": [],
   "source": [
    "!pip install matlab --user\n",
    "!pip install matlabengine --user"
   ]
  },
  {
   "cell_type": "markdown",
   "id": "a0e9e0db",
   "metadata": {},
   "source": [
    "## Run above cell twice to see the correct path for your machine!\n",
    "\n",
    "Then you can set the correct path in below cell."
   ]
  },
  {
   "cell_type": "code",
   "execution_count": 13,
   "id": "d39e39f7",
   "metadata": {},
   "outputs": [
    {
     "name": "stdout",
     "output_type": "stream",
     "text": [
      "\n",
      "SUCCESS: Specified value was saved.\n"
     ]
    },
    {
     "name": "stderr",
     "output_type": "stream",
     "text": [
      "\n",
      "WARNING: The data being saved is truncated to 1024 characters.\n"
     ]
    }
   ],
   "source": [
    "!setx PATH \"%PATH%;c:\\users\\exx520\\appdata\\roaming\\python\\python37\\site-packages\""
   ]
  },
  {
   "cell_type": "markdown",
   "id": "8668f1d1",
   "metadata": {},
   "source": [
    "## Before continuing, please restart the kernel from the upper menu \"Kernel>Restart\""
   ]
  },
  {
   "cell_type": "code",
   "execution_count": null,
   "id": "06aafa64",
   "metadata": {},
   "outputs": [],
   "source": [
    "import matlab.engine"
   ]
  },
  {
   "cell_type": "code",
   "execution_count": null,
   "id": "094c37f1",
   "metadata": {},
   "outputs": [],
   "source": [
    "eng = matlab.engine.start_matlab()"
   ]
  },
  {
   "cell_type": "code",
   "execution_count": null,
   "id": "475db3a5",
   "metadata": {},
   "outputs": [],
   "source": [
    "tf = eng.isprime(37)\n",
    "print(tf)"
   ]
  },
  {
   "cell_type": "code",
   "execution_count": null,
   "id": "c447bf1d",
   "metadata": {},
   "outputs": [],
   "source": []
  }
 ],
 "metadata": {
  "kernelspec": {
   "display_name": "Python 3 (ipykernel)",
   "language": "python",
   "name": "python3"
  },
  "language_info": {
   "codemirror_mode": {
    "name": "ipython",
    "version": 3
   },
   "file_extension": ".py",
   "mimetype": "text/x-python",
   "name": "python",
   "nbconvert_exporter": "python",
   "pygments_lexer": "ipython3",
   "version": "3.8.5"
  }
 },
 "nbformat": 4,
 "nbformat_minor": 5
}
