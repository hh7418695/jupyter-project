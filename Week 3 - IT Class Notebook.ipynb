{
 "cells": [
  {
   "cell_type": "markdown",
   "id": "c2460283-f87c-4ab5-8195-b3e092c67e67",
   "metadata": {},
   "source": [
    "# Hypothesis Testing"
   ]
  },
  {
   "cell_type": "code",
   "execution_count": 3,
   "id": "488bebb5-dcec-4a94-9ea1-8ab87396037e",
   "metadata": {},
   "outputs": [],
   "source": [
    "import numpy as np\n",
    "from scipy import stats\n",
    "import pandas as pd\n",
    "pd.options.display.float_format = '{:,.4f}'.format"
   ]
  },
  {
   "cell_type": "markdown",
   "id": "c039c6b6",
   "metadata": {},
   "source": [
    "For checking normality, below code uses Shapiro-Wilk’s W test which is generally preferred for smaller samples however there are other options like Kolmogorov-Smirnov and D’Agostino and Pearson’s test. Please visit https://docs.scipy.org/doc/scipy/reference/stats.html for more information."
   ]
  },
  {
   "cell_type": "code",
   "execution_count": 5,
   "id": "d690ca86-69ae-444b-a767-4ffd09593a7c",
   "metadata": {},
   "outputs": [],
   "source": [
    "def check_normality(data):\n",
    "    test_stat_normality, p_value_normality=stats.shapiro(data)\n",
    "    print(\"p value:%.4f\" % p_value_normality)\n",
    "    if p_value_normality <0.05:\n",
    "        print(\"Reject null hypothesis >> The data is not normally distributed\")\n",
    "    else:\n",
    "        print(\"Fail to reject null hypothesis >> The data is normally distributed\")       "
   ]
  },
  {
   "cell_type": "markdown",
   "id": "8bbe30c2",
   "metadata": {},
   "source": [
    "For checking variance homogeneity, below code uses Levene’s test but you can also check Bartlett’s test from here: https://docs.scipy.org/doc/scipy/reference/generated/scipy.stats.bartlett.html#scipy.stats.bartlett"
   ]
  },
  {
   "cell_type": "code",
   "execution_count": 6,
   "id": "218530c7-e10e-459e-b51e-99306814301b",
   "metadata": {},
   "outputs": [],
   "source": [
    "def check_variance_homogeneity(group1, group2): #F-test\n",
    "    test_stat_var, p_value_var= stats.levene(group1,group2)\n",
    "    print(\"p value:%.4f\" % p_value_var)\n",
    "    if p_value_var <0.05:\n",
    "        print(\"Reject null hypothesis >> The variances of the samples are different.\")\n",
    "    else:\n",
    "        print(\"Fail to reject null hypothesis >> The variances of the samples are same.\")"
   ]
  },
  {
   "cell_type": "markdown",
   "id": "721ee575-b70e-4d81-9bdf-f1b59f449784",
   "metadata": {},
   "source": [
    "## Example-1   \n",
    " A university professor gave online lectures instead of face-to-face classes due to Covid-19. Later, he uploaded recorded lectures to the cloud for students who followed the course asynchronously (those who did not attend the lesson but later watched the records). However, he believes that the students who attend class at the class time and participate in the process are more successful. Therefore, he recorded the average grades of the students at the end of the semester. The data is below. \n",
    "\n",
    "synchronous = [94. , 84.9, 82.6, 69.5, 80.1, 79.6, 81.4, 77.8, 81.7, 78.8, 73.2, 87.9, 87.9, 93.5, 82.3, 79.3, 78.3, 71.6, 88.6, 74.6, 74.1, 80.6]      \n",
    "asynchronous = [77.1, 71.7, 91. , 72.2, 74.8, 85.1, 67.6, 69.9, 75.3, 71.7, 65.7, 72.6, 71.5, 78.2]\n",
    "\n",
    "**Conduct the hypothesis testing to check whether the professor's belief is statistically significant by using a 0.05 significance level to evaluate the null and alternative hypotheses. Before doing hypothesis testing, check the related assumptions. Comment on the results.**\n"
   ]
  },
  {
   "cell_type": "markdown",
   "id": "65d27ff3-fd89-435a-b753-7388831b18e3",
   "metadata": {},
   "source": [
    "### Assumptions\n",
    "Observations in each sample are independent and identically distributed (iid).  \n",
    "Observations in each sample are normally distributed.  \n",
    "Observations in each sample have the same variance. "
   ]
  },
  {
   "cell_type": "code",
   "execution_count": 11,
   "id": "1a25db91-cefa-4a38-9946-d0e87323e7d5",
   "metadata": {},
   "outputs": [],
   "source": [
    "sync = np.array([94. , 84.9, 82.6, 69.5, 80.1, 79.6, 81.4, 77.8, 81.7, 78.8, 73.2,\n",
    "       87.9, 87.9, 93.5, 82.3, 79.3, 78.3, 71.6, 88.6, 74.6, 74.1, 80.6])\n",
    "asyncr =np.array([77.1, 71.7, 91. , 72.2, 74.8, 85.1, 67.6, 69.9, 75.3, 71.7, 65.7, 72.6, 71.5, 78.2])"
   ]
  },
  {
   "cell_type": "markdown",
   "id": "68e3a54f-c5ad-4c93-b7ff-53501ae6ae11",
   "metadata": {},
   "source": [
    "$H_{0}$: The data is normally distributed.  \n",
    "$H_{1}$: The data is not normally distributed.   \n",
    "Assume that alpha=0.05 If p-value is >0.05, it can be said that data is normally distributed."
   ]
  },
  {
   "cell_type": "code",
   "execution_count": 12,
   "id": "06e1a394-4670-43e8-945e-dd7158652548",
   "metadata": {},
   "outputs": [
    {
     "name": "stdout",
     "output_type": "stream",
     "text": [
      "p value:0.6556\n",
      "Fail to reject null hypothesis >> The data is normally distributed\n",
      "p value:0.0803\n",
      "Fail to reject null hypothesis >> The data is normally distributed\n"
     ]
    }
   ],
   "source": [
    "check_normality(sync)\n",
    "check_normality(asyncr)"
   ]
  },
  {
   "cell_type": "markdown",
   "id": "522e945b-dd2d-405b-99c1-80e29378ced7",
   "metadata": {},
   "source": [
    "$H_{0}$: The variances of the samples are same.  \n",
    "$H_{1}$: The variances of the samples are different.\n",
    "    \n",
    "It tests the null hypothesis that the population variances are equal (called homogeneity of variance or homoscedasticity). If the resulting p-value of Levene's test is less than some significance level (typically 0.05), the obtained differences in sample variances are unlikely to have occurred based on random sampling from a population with equal variances"
   ]
  },
  {
   "cell_type": "code",
   "execution_count": 13,
   "id": "551145dd-a579-4d1b-8829-47b63be40606",
   "metadata": {},
   "outputs": [
    {
     "name": "stdout",
     "output_type": "stream",
     "text": [
      "p value:0.8149\n",
      "Fail to reject null hypothesis >> The variances of the samples are same.\n"
     ]
    }
   ],
   "source": [
    "check_variance_homogeneity(sync, asyncr)"
   ]
  },
  {
   "cell_type": "markdown",
   "id": "cacd6450",
   "metadata": {},
   "source": [
    "Since the grades are obtained from the different individuals, the data is unpaired. As assumptions are satisfied, we can perform the parametric version of the test for 2 groups and unpaired data. \n",
    "\n",
    "We can define the hypothesis:"
   ]
  },
  {
   "cell_type": "markdown",
   "id": "110fd891-051e-438c-aafb-d7d97c7ebb42",
   "metadata": {},
   "source": [
    "$H_{0}$: $\\mu_{s}= \\mu_{a}$    **or** The average grades are same\n",
    "\n",
    "$H_{1}$: $\\mu_{s}\\neq  \\mu_{a}$ **or** The average grades are NOT same"
   ]
  },
  {
   "cell_type": "code",
   "execution_count": 14,
   "id": "2e08cc74-4d59-4782-957e-d7c9d7ebf972",
   "metadata": {},
   "outputs": [
    {
     "name": "stdout",
     "output_type": "stream",
     "text": [
      "p value:0.00753598\n",
      "since the hypothesis is one sided >> use p_value/2 >> p_value_one_sided:0.0038\n",
      "Reject null hypothesis\n"
     ]
    }
   ],
   "source": [
    "ttest,p_value = stats.ttest_ind(sync,asyncr)\n",
    "print(\"p value:%.8f\" % p_value)\n",
    "print(\"since the hypothesis is one sided >> use p_value/2 >> p_value_one_sided:%.4f\" %(p_value/2))\n",
    "if p_value/2 <0.05:\n",
    "    print(\"Reject null hypothesis\")\n",
    "else:\n",
    "    print(\"Fail to reject null hypothesis\") "
   ]
  },
  {
   "cell_type": "markdown",
   "id": "d120ebc6-5dbf-4324-8a8d-b59da42b492f",
   "metadata": {},
   "source": [
    "**At this significance level, there is enough evidence to conclude that the average grade of the students who follow the course synchronously is higher than the async.** \n",
    "\n",
    "--------"
   ]
  },
  {
   "cell_type": "markdown",
   "id": "e5717a45-88fd-49a1-a1b2-22b27b649e04",
   "metadata": {},
   "source": [
    "## Example-2\n",
    "\n",
    "The University Health Center diagnosed eighteen students with high cholesterol in the previous semester. Healthcare personnel told these patients about the dangers of high cholesterol and prescribed a diet program. One month later, the patients came for control, and their cholesterol level was reexamined. Test whether there is a difference in the cholesterol levels of the patients.   \n",
    "\n",
    "**According to this information, conduct the hypothesis testing to check whether there is a decrease in the cholesterol levels of the patients after the diet by using a 0.05 significance level. Before doing hypothesis testing, check the related assumptions. Comment on the results**\n",
    "\n",
    "test_results_before_diet=[224, 235, 223, 253, 253, 224, 244, 225, 259, 220, 242, 240, 239, 229, 276, 254, 237, 227]  \n",
    "test_results_after_diet=[198, 195, 213, 190, 246, 206, 225, 199, 214, 210, 188, 205, 200, 220, 190, 199, 191, 218]"
   ]
  },
  {
   "cell_type": "markdown",
   "id": "b7891668-01fa-44e9-9771-0ea54b4cbba7",
   "metadata": {},
   "source": [
    "## Assumptions\n",
    "• The dependent variable must be continuous (interval/ratio)  \n",
    "• The observations are independent of one another  \n",
    "• The dependent variable should be approximately normally distributed"
   ]
  },
  {
   "cell_type": "code",
   "execution_count": 32,
   "id": "8bfed26f-592c-490a-9f00-a9c630c1fcb4",
   "metadata": {},
   "outputs": [],
   "source": [
    "test_results_before_diet=np.array([224, 235, 223, 253, 253, 224, 244, 225, 259, 220, 242, 240, 239, 229, 276, 254, 237, 227])\n",
    "test_results_after_diet=np.array([198, 195, 213, 190, 246, 206, 225, 199, 214, 210, 188, 205, 200, 220, 190, 199, 191, 218])"
   ]
  },
  {
   "cell_type": "markdown",
   "id": "e695778d-95fa-4779-b3b4-c2f089da746f",
   "metadata": {},
   "source": [
    "$H_{0}$: The data is normally distributed.  \n",
    "$H_{1}$: The data is not normally distributed. "
   ]
  },
  {
   "cell_type": "code",
   "execution_count": 33,
   "id": "31095b4c-da1f-4149-a518-2efc99edf292",
   "metadata": {},
   "outputs": [
    {
     "name": "stdout",
     "output_type": "stream",
     "text": [
      "p value:0.1635\n",
      "Fail to reject null hypothesis >> The data is normally distributed\n",
      "p value:0.1003\n",
      "Fail to reject null hypothesis >> The data is normally distributed\n",
      "239.11111111111111\n",
      "205.94444444444446\n"
     ]
    }
   ],
   "source": [
    "check_normality(test_results_before_diet)\n",
    "check_normality(test_results_after_diet)\n",
    "print(np.mean(test_results_before_diet))\n",
    "print(np.mean(test_results_after_diet))"
   ]
  },
  {
   "cell_type": "markdown",
   "id": "ae706fd2",
   "metadata": {},
   "source": [
    "The data is paired since data is collected from the same individuals and assumptions are satisfied, then we can use the dependent t-test.\n",
    "\n",
    "Let's define our hypothesis:"
   ]
  },
  {
   "cell_type": "markdown",
   "id": "a696d2f7-613b-4405-850c-09135768e222",
   "metadata": {},
   "source": [
    "$H_{0}$: $\\mu_{d}= 0 $ **or** The true mean difference is equal to zero.   \n",
    "$H_{1}$: $\\mu_{d}\\neq 0 $ **or**  The true mean difference is NOT equal to zero.  "
   ]
  },
  {
   "cell_type": "code",
   "execution_count": 28,
   "id": "70c0d3e5-ac8b-4941-a697-10d830b4acb3",
   "metadata": {},
   "outputs": [
    {
     "name": "stdout",
     "output_type": "stream",
     "text": [
      "p value:0.000008 one tailed p value:0.000004\n",
      "Reject null hypothesis\n"
     ]
    }
   ],
   "source": [
    "test_stat, p_value_paired = stats.ttest_rel(test_results_before_diet,test_results_after_diet)\n",
    "print(\"p value:%.6f\" % p_value_paired , \"one tailed p value:%.6f\" %(p_value_paired/2))\n",
    "if p_value_paired <0.05:\n",
    "    print(\"Reject null hypothesis\")\n",
    "else:\n",
    "    print(\"Fail to reject null hypothesis\")"
   ]
  },
  {
   "cell_type": "markdown",
   "id": "4982bb0a-68c7-4b3b-91df-d63e65fba819",
   "metadata": {},
   "source": [
    "At this significance level, there is enough evidence to conclude mean cholesterol level of patients has decreased after the diet.\n",
    "\n",
    "-----"
   ]
  },
  {
   "cell_type": "markdown",
   "id": "61ca16f7-d71f-48ce-ade7-b0c83f03c6b4",
   "metadata": {},
   "source": [
    "## Example-3\n",
    "A venture capitalist wanted to invest in a startup that provides data compression without any loss in quality, but there are two competitors: PiedPiper and EndFrame. Initially, she believed the performance of the EndFrame could be better but still wanted to test it before the investment. Then, she gave the same files to each company to compress and recorded their performance scores. The data is below.    \n",
    "    \n",
    "piedpiper=[4.57, 4.55, 5.47, 4.67, 5.41, 5.55, 5.53, 5.63, 3.86, 3.97, 5.44, 3.93, 5.31, 5.17, 4.39, 4.28, 5.25]     \n",
    "endframe = [4.27, 3.93, 4.01, 4.07, 3.87, 4.  , 4.  , 3.72, 4.16, 4.1 , 3.9 , 3.97, 4.08, 3.96, 3.96, 3.77, 4.09]\n",
    "\n",
    "\n",
    "**According to this information, conduct the related hypothesis testing by using a 0.05 significance level. Before doing hypothesis testing, check the related assumptions. Comment on the results.**"
   ]
  },
  {
   "cell_type": "markdown",
   "id": "cf02bf9d-124b-48f8-aa7c-07c4e3176274",
   "metadata": {},
   "source": [
    "## Assumptions\n",
    "• The dependent variable must be continuous (interval/ratio)  \n",
    "• The observations are independent of one another  \n",
    "• The dependent variable should be approximately normally distributed"
   ]
  },
  {
   "cell_type": "markdown",
   "id": "0925fc7a-d032-4b41-975d-8ddecfb2b08e",
   "metadata": {},
   "source": [
    "$H_{0}$: The data is normally distributed.  \n",
    "$H_{1}$: The data is not normally distributed.   \n",
    "Assume that alpha=0.05 If p-value is >0.05, it can be said that data is normality distributed."
   ]
  },
  {
   "cell_type": "code",
   "execution_count": 13,
   "id": "340b370e-4e26-43c7-83f9-0d9d2291dea5",
   "metadata": {},
   "outputs": [
    {
     "name": "stdout",
     "output_type": "stream",
     "text": [
      "p value:0.0304\n",
      "Reject null hypothesis >> The data is not normally distributed\n",
      "p value:0.9587\n",
      "Fail to reject null hypothesis >> The data is normally distributed\n",
      "4.881176470588235\n",
      "3.991764705882353\n"
     ]
    }
   ],
   "source": [
    "piedpiper=np.array([4.57, 4.55, 5.47, 4.67, 5.41, 5.55, 5.53, 5.63, 3.86, 3.97, 5.44, 3.93, 5.31, 5.17, 4.39, 4.28, 5.25])\n",
    "endframe = np.array([4.27, 3.93, 4.01, 4.07, 3.87, 4.  , 4.  , 3.72, 4.16, 4.1 , 3.9 , 3.97, 4.08, 3.96, 3.96, 3.77, 4.09])\n",
    "check_normality(piedpiper)\n",
    "check_normality(endframe)\n",
    "print(np.mean(piedpiper))\n",
    "print(np.mean(endframe))"
   ]
  },
  {
   "cell_type": "markdown",
   "id": "0621e4b2",
   "metadata": {},
   "source": [
    "The normality assumption is not satisfied; therefore, we need to use the nonparametric version of the paired test, namely the Wilcoxon Signed Rank test.\n",
    "\n",
    "Let's define hypothesis:"
   ]
  },
  {
   "cell_type": "markdown",
   "id": "27a7dfe1-e1b3-4ccf-9a1a-2d31db50bcfa",
   "metadata": {},
   "source": [
    "$H_{0}$: $\\mu_{d} = 0 $ **or** The true mean difference is equal to zero.   \n",
    "$H_{1}$: $\\mu_{d} \\neq 0 $ **or**  The true mean difference is NOT equal to zero. "
   ]
  },
  {
   "cell_type": "code",
   "execution_count": 12,
   "id": "a50efce1-4f5e-4c54-a92c-814d3069d8ef",
   "metadata": {},
   "outputs": [
    {
     "ename": "ValueError",
     "evalue": "The samples x and y must have the same length.",
     "output_type": "error",
     "traceback": [
      "\u001b[1;31m---------------------------------------------------------------------------\u001b[0m",
      "\u001b[1;31mValueError\u001b[0m                                Traceback (most recent call last)",
      "\u001b[1;32m~\\AppData\\Local\\Temp/ipykernel_9000/3451288732.py\u001b[0m in \u001b[0;36m<module>\u001b[1;34m\u001b[0m\n\u001b[1;32m----> 1\u001b[1;33m \u001b[0mtest\u001b[0m\u001b[1;33m,\u001b[0m\u001b[0mpvalue\u001b[0m \u001b[1;33m=\u001b[0m \u001b[0mstats\u001b[0m\u001b[1;33m.\u001b[0m\u001b[0mwilcoxon\u001b[0m\u001b[1;33m(\u001b[0m\u001b[0mendframe\u001b[0m\u001b[1;33m,\u001b[0m\u001b[0mpiedpiper\u001b[0m\u001b[1;33m)\u001b[0m \u001b[1;31m##alternative default two sided\u001b[0m\u001b[1;33m\u001b[0m\u001b[1;33m\u001b[0m\u001b[0m\n\u001b[0m\u001b[0;32m      2\u001b[0m \u001b[0mprint\u001b[0m\u001b[1;33m(\u001b[0m\u001b[1;34m\"p-value:%.6f\"\u001b[0m \u001b[1;33m%\u001b[0m\u001b[0mpvalue\u001b[0m\u001b[1;33m,\u001b[0m \u001b[1;34m\">> one_tailed_pval:%.6f\"\u001b[0m \u001b[1;33m%\u001b[0m\u001b[1;33m(\u001b[0m\u001b[0mpvalue\u001b[0m\u001b[1;33m/\u001b[0m\u001b[1;36m2\u001b[0m\u001b[1;33m)\u001b[0m\u001b[1;33m)\u001b[0m\u001b[1;33m\u001b[0m\u001b[1;33m\u001b[0m\u001b[0m\n\u001b[0;32m      3\u001b[0m \u001b[1;33m\u001b[0m\u001b[0m\n\u001b[0;32m      4\u001b[0m \u001b[0mtest\u001b[0m\u001b[1;33m,\u001b[0m\u001b[0mone_sided_pvalue\u001b[0m \u001b[1;33m=\u001b[0m \u001b[0mstats\u001b[0m\u001b[1;33m.\u001b[0m\u001b[0mwilcoxon\u001b[0m\u001b[1;33m(\u001b[0m\u001b[0mendframe\u001b[0m\u001b[1;33m,\u001b[0m\u001b[0mpiedpiper\u001b[0m\u001b[1;33m,\u001b[0m \u001b[0malternative\u001b[0m\u001b[1;33m=\u001b[0m\u001b[1;34m\"less\"\u001b[0m\u001b[1;33m)\u001b[0m\u001b[1;33m\u001b[0m\u001b[1;33m\u001b[0m\u001b[0m\n\u001b[0;32m      5\u001b[0m \u001b[0mprint\u001b[0m\u001b[1;33m(\u001b[0m\u001b[1;34m\"one sided pvalue:%.6f\"\u001b[0m \u001b[1;33m%\u001b[0m\u001b[1;33m(\u001b[0m\u001b[0mone_sided_pvalue\u001b[0m\u001b[1;33m)\u001b[0m\u001b[1;33m)\u001b[0m\u001b[1;33m\u001b[0m\u001b[1;33m\u001b[0m\u001b[0m\n",
      "\u001b[1;32mL:\\Anaconda\\3.8\\lib\\site-packages\\scipy\\stats\\morestats.py\u001b[0m in \u001b[0;36mwilcoxon\u001b[1;34m(x, y, zero_method, correction, alternative, mode)\u001b[0m\n\u001b[0;32m   3127\u001b[0m             \u001b[1;32mraise\u001b[0m \u001b[0mValueError\u001b[0m\u001b[1;33m(\u001b[0m\u001b[1;34m'Samples x and y must be one-dimensional.'\u001b[0m\u001b[1;33m)\u001b[0m\u001b[1;33m\u001b[0m\u001b[1;33m\u001b[0m\u001b[0m\n\u001b[0;32m   3128\u001b[0m         \u001b[1;32mif\u001b[0m \u001b[0mlen\u001b[0m\u001b[1;33m(\u001b[0m\u001b[0mx\u001b[0m\u001b[1;33m)\u001b[0m \u001b[1;33m!=\u001b[0m \u001b[0mlen\u001b[0m\u001b[1;33m(\u001b[0m\u001b[0my\u001b[0m\u001b[1;33m)\u001b[0m\u001b[1;33m:\u001b[0m\u001b[1;33m\u001b[0m\u001b[1;33m\u001b[0m\u001b[0m\n\u001b[1;32m-> 3129\u001b[1;33m             \u001b[1;32mraise\u001b[0m \u001b[0mValueError\u001b[0m\u001b[1;33m(\u001b[0m\u001b[1;34m'The samples x and y must have the same length.'\u001b[0m\u001b[1;33m)\u001b[0m\u001b[1;33m\u001b[0m\u001b[1;33m\u001b[0m\u001b[0m\n\u001b[0m\u001b[0;32m   3130\u001b[0m         \u001b[0md\u001b[0m \u001b[1;33m=\u001b[0m \u001b[0mx\u001b[0m \u001b[1;33m-\u001b[0m \u001b[0my\u001b[0m\u001b[1;33m\u001b[0m\u001b[1;33m\u001b[0m\u001b[0m\n\u001b[0;32m   3131\u001b[0m \u001b[1;33m\u001b[0m\u001b[0m\n",
      "\u001b[1;31mValueError\u001b[0m: The samples x and y must have the same length."
     ]
    }
   ],
   "source": [
    "test,pvalue = stats.wilcoxon(endframe,piedpiper) ##alternative default two sided\n",
    "print(\"p-value:%.6f\" %pvalue, \">> one_tailed_pval:%.6f\" %(pvalue/2))\n",
    "\n",
    "test,one_sided_pvalue = stats.wilcoxon(endframe,piedpiper, alternative=\"less\")\n",
    "print(\"one sided pvalue:%.6f\" %(one_sided_pvalue))\n",
    "if pvalue <0.05:\n",
    "    print(\"Reject null hypothesis\")\n",
    "else:\n",
    "    print(\"Fail to reject null hypothesis\")"
   ]
  },
  {
   "cell_type": "markdown",
   "id": "e9bc8244-e8fe-4823-93b8-ee5f252cb62d",
   "metadata": {},
   "source": [
    "Reject $H_{0}$ >> At this significance level, there is enough evidence to conclude that the performance the PiedPaper is better than the EndFrame."
   ]
  }
 ],
 "metadata": {
  "kernelspec": {
   "display_name": "Python 3 (ipykernel)",
   "language": "python",
   "name": "python3"
  },
  "language_info": {
   "codemirror_mode": {
    "name": "ipython",
    "version": 3
   },
   "file_extension": ".py",
   "mimetype": "text/x-python",
   "name": "python",
   "nbconvert_exporter": "python",
   "pygments_lexer": "ipython3",
   "version": "3.8.8"
  }
 },
 "nbformat": 4,
 "nbformat_minor": 5
}
