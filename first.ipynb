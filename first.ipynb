{
 "cells": [
  {
   "cell_type": "code",
   "execution_count": null,
   "id": "b7923eee-123c-4979-a92f-e5c06e56e8af",
   "metadata": {},
   "outputs": [
    {
     "name": "stdout",
     "output_type": "stream",
     "text": [
      "Hello, Python!\n",
      "你好，张三，你今年25岁\n",
      "我喜欢吃苹果\n"
     ]
    }
   ],
   "source": [
    "# 第一个Python程序\n",
    "print(\"Hello, Python!\")\n",
    "\n",
    "\n",
    "# 变量练习\n",
    "name = \"张三\"\n",
    "age = 25\n",
    "\n",
    "print(f\"你好，{name}，你今年{age}岁\")\n",
    "\n",
    "# 简单列表操作\n",
    "fruits = [\"苹果\", \"香蕉\", \"橙子\"]\n",
    "print(f\"我喜欢吃{fruits[0]}\")\n",
    "\n"
   ]
  },
  {
   "cell_type": "code",
   "execution_count": null,
   "id": "0085efa3-ac86-4f55-ba94-e291514a9334",
   "metadata": {},
   "outputs": [],
   "source": []
  },
  {
   "cell_type": "code",
   "execution_count": null,
   "id": "9afe9951-e16a-48b5-babf-60ad03160ca4",
   "metadata": {},
   "outputs": [],
   "source": []
  }
 ],
 "metadata": {
  "kernelspec": {
   "display_name": "base",
   "language": "python",
   "name": "python3"
  },
  "language_info": {
   "codemirror_mode": {
    "name": "ipython",
    "version": 3
   },
   "file_extension": ".py",
   "mimetype": "text/x-python",
   "name": "python",
   "nbconvert_exporter": "python",
   "pygments_lexer": "ipython3",
   "version": "3.12.7"
  }
 },
 "nbformat": 4,
 "nbformat_minor": 5
}
